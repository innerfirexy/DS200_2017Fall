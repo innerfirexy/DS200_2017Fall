{
 "cells": [
  {
   "cell_type": "code",
   "execution_count": 1,
   "metadata": {},
   "outputs": [],
   "source": [
    "from datascience import *\n",
    "\n",
    "from sklearn.feature_extraction.text import CountVectorizer\n",
    "from sklearn.pipeline import Pipeline\n",
    "from sklearn import tree\n",
    "from sklearn import metrics\n",
    "from sklearn.model_selection import cross_val_score\n",
    "from sklearn.model_selection import cross_validate\n",
    "from sklearn.model_selection import train_test_split\n",
    "\n",
    "import pandas as pd\n",
    "import numpy as np\n",
    "\n",
    "import graphviz\n",
    "import os\n",
    "os.environ[\"PATH\"] += os.pathsep + 'C:/Program Files (x86)/Graphviz2.38/bin/'"
   ]
  },
  {
   "cell_type": "code",
   "execution_count": 4,
   "metadata": {},
   "outputs": [
    {
     "data": {
      "text/html": [
       "<table border=\"1\" class=\"dataframe\">\n",
       "    <thead>\n",
       "        <tr>\n",
       "            <th>Daniel</th> <th>Nick</th> <th>Prediction</th> <th>user_id\tuser_name\ttime\tlocation\ttext </th> <th>Unnamed: 4</th> <th>Unnamed: 5</th> <th>Unnamed: 6</th> <th>Unnamed: 7</th>\n",
       "        </tr>\n",
       "    </thead>\n",
       "    <tbody>\n",
       "        <tr>\n",
       "            <td>Pos   </td> <td> Pos</td> <td>Pos       </td> <td>33461403\tMPEA;EJINAOL\tFri Sep 22 22:15:05 +0000 2017\tico ...</td> <td>nan                                                         </td> <td>nan                                                         </td> <td>nan                                                         </td> <td>nan       </td>\n",
       "        </tr>\n",
       "    </tbody>\n",
       "        <tr>\n",
       "            <td>IR    </td> <td> IR </td> <td>IR        </td> <td>3249652142\t \tFri Sep 22 22:15:08 +0000 2017\t \tRT @TFBOYS ...</td> <td>nan                                                         </td> <td>nan                                                         </td> <td>nan                                                         </td> <td>nan       </td>\n",
       "        </tr>\n",
       "    </tbody>\n",
       "        <tr>\n",
       "            <td>Neg   </td> <td> IR </td> <td>Neg       </td> <td>20751449\tThe Hindu\tFri Sep 22 22:15:08 +0000 2017\tChennai   </td> <td> India\tReview: When the Kingsman partner with the Statesman </td> <td> located in Kentucky                                        </td> <td> every American stereotype is abused https://t.co/kJBcjZFU9o</td> <td>nan       </td>\n",
       "        </tr>\n",
       "    </tbody>\n",
       "        <tr>\n",
       "            <td>Pos   </td> <td> Pos</td> <td>Pos       </td> <td>400302606\tLucy  \tFri Sep 22 22:15:10 +0000 2017\t\t--Kings ...</td> <td>nan                                                         </td> <td>nan                                                         </td> <td>nan                                                         </td> <td>nan       </td>\n",
       "        </tr>\n",
       "    </tbody>\n",
       "        <tr>\n",
       "            <td>IR    </td> <td> Pos</td> <td>IR        </td> <td>1040450707\tJuan y punto.\tFri Sep 22 22:15:11 +0000 2017\t ...</td> <td>nan                                                         </td> <td>nan                                                         </td> <td>nan                                                         </td> <td>nan       </td>\n",
       "        </tr>\n",
       "    </tbody>\n",
       "        <tr>\n",
       "            <td>Pos   </td> <td> IR </td> <td>Pos       </td> <td>853698666338680832\tSeleQtos\tFri Sep 22 22:15:12 +0000 20 ...</td> <td> Fleet St                                                   </td> <td> London. Photo by VeRoNik. | #architecture #viajar #King ...</td> <td>nan                                                         </td> <td>nan       </td>\n",
       "        </tr>\n",
       "    </tbody>\n",
       "        <tr>\n",
       "            <td>IR    </td> <td> IR </td> <td>IR        </td> <td>802946705457086464\tAll Out Movies\tFri Sep 22 22:15:16 +0 ...</td> <td>nan                                                         </td> <td>nan                                                         </td> <td>nan                                                         </td> <td>nan       </td>\n",
       "        </tr>\n",
       "    </tbody>\n",
       "        <tr>\n",
       "            <td>Neg   </td> <td> Neg</td> <td>Neg       </td> <td>2859948387\tVictor Hugo\tFri Sep 22 22:15:16 +0000 2017\tTa ...</td> <td>nan                                                         </td> <td>nan                                                         </td> <td>nan                                                         </td> <td>nan       </td>\n",
       "        </tr>\n",
       "    </tbody>\n",
       "        <tr>\n",
       "            <td>IR    </td> <td> IR </td> <td>IR        </td> <td>64002133\tCollett Dawson\tFri Sep 22 22:15:17 +0000 2017\tJ ...</td> <td> South Africa\tRT @MeganMovieGirl: Halle Berry and Pedro  ...</td> <td>nan                                                         </td> <td>nan                                                         </td> <td>nan       </td>\n",
       "        </tr>\n",
       "    </tbody>\n",
       "        <tr>\n",
       "            <td>Pos   </td> <td> Pos</td> <td>Pos       </td> <td>258437424\tlil tendercrisp\tFri Sep 22 22:15:21 +0000 2017 ...</td> <td>nan                                                         </td> <td>nan                                                         </td> <td>nan                                                         </td> <td>nan       </td>\n",
       "        </tr>\n",
       "    </tbody>\n",
       "</table>\n",
       "<p>... (322 rows omitted)</p"
      ],
      "text/plain": [
       "Daniel | Nick | Prediction | user_id\tuser_name\ttime\tlocation\ttext                         | Unnamed: 4                                                   | Unnamed: 5                                                   | Unnamed: 6                                                   | Unnamed: 7\n",
       "Pos    |  Pos | Pos        | 33461403\tMPEA;EJINAOL\tFri Sep 22 22:15:05 +0000 2017\tico ... | nan                                                          | nan                                                          | nan                                                          | nan\n",
       "IR     |  IR  | IR         | 3249652142\t \tFri Sep 22 22:15:08 +0000 2017\t \tRT @TFBOYS ... | nan                                                          | nan                                                          | nan                                                          | nan\n",
       "Neg    |  IR  | Neg        | 20751449\tThe Hindu\tFri Sep 22 22:15:08 +0000 2017\tChennai    |  India\tReview: When the Kingsman partner with the Statesman  |  located in Kentucky                                         |  every American stereotype is abused https://t.co/kJBcjZFU9o | nan\n",
       "Pos    |  Pos | Pos        | 400302606\tLucy  \tFri Sep 22 22:15:10 +0000 2017\t\t--Kings ... | nan                                                          | nan                                                          | nan                                                          | nan\n",
       "IR     |  Pos | IR         | 1040450707\tJuan y punto.\tFri Sep 22 22:15:11 +0000 2017\t ... | nan                                                          | nan                                                          | nan                                                          | nan\n",
       "Pos    |  IR  | Pos        | 853698666338680832\tSeleQtos\tFri Sep 22 22:15:12 +0000 20 ... |  Fleet St                                                    |  London. Photo by VeRoNik. | #architecture #viajar #King ... | nan                                                          | nan\n",
       "IR     |  IR  | IR         | 802946705457086464\tAll Out Movies\tFri Sep 22 22:15:16 +0 ... | nan                                                          | nan                                                          | nan                                                          | nan\n",
       "Neg    |  Neg | Neg        | 2859948387\tVictor Hugo\tFri Sep 22 22:15:16 +0000 2017\tTa ... | nan                                                          | nan                                                          | nan                                                          | nan\n",
       "IR     |  IR  | IR         | 64002133\tCollett Dawson\tFri Sep 22 22:15:17 +0000 2017\tJ ... |  South Africa\tRT @MeganMovieGirl: Halle Berry and Pedro  ... | nan                                                          | nan                                                          | nan\n",
       "Pos    |  Pos | Pos        | 258437424\tlil tendercrisp\tFri Sep 22 22:15:21 +0000 2017 ... | nan                                                          | nan                                                          | nan                                                          | nan\n",
       "... (322 rows omitted)"
      ]
     },
     "execution_count": 4,
     "metadata": {},
     "output_type": "execute_result"
    }
   ],
   "source": [
    "# Load data set \n",
    "data = Table.read_table('my_tweets_2017-09-22_18-15-01_nonASCII_removed-1.csv', sep=',') # If your data is separate by '\\t', then use sep='\\t'\n",
    "data"
   ]
  },
  {
   "cell_type": "code",
   "execution_count": 5,
   "metadata": {
    "scrolled": true
   },
   "outputs": [
    {
     "ename": "ValueError",
     "evalue": "The column \"text\" is not in the table. The table contains these columns: Daniel, Nick, Prediction, user_id\tuser_name\ttime\tlocation\ttext , Unnamed: 4, Unnamed: 5, Unnamed: 6, Unnamed: 7",
     "output_type": "error",
     "traceback": [
      "\u001b[0;31m---------------------------------------------------------------------------\u001b[0m",
      "\u001b[0;31mValueError\u001b[0m                                Traceback (most recent call last)",
      "\u001b[0;32m<ipython-input-5-7d2ff3c455ab>\u001b[0m in \u001b[0;36m<module>\u001b[0;34m()\u001b[0m\n\u001b[1;32m      1\u001b[0m \u001b[0;31m# Prepare data\u001b[0m\u001b[0;34m\u001b[0m\u001b[0;34m\u001b[0m\u001b[0m\n\u001b[0;32m----> 2\u001b[0;31m \u001b[0mdata_X\u001b[0m \u001b[0;34m=\u001b[0m \u001b[0mlist\u001b[0m\u001b[0;34m(\u001b[0m\u001b[0mdata\u001b[0m\u001b[0;34m[\u001b[0m\u001b[0;34m'text'\u001b[0m\u001b[0;34m]\u001b[0m\u001b[0;34m)\u001b[0m\u001b[0;34m\u001b[0m\u001b[0m\n\u001b[0m\u001b[1;32m      3\u001b[0m \u001b[0mdata_y\u001b[0m \u001b[0;34m=\u001b[0m \u001b[0mlist\u001b[0m\u001b[0;34m(\u001b[0m\u001b[0mdata\u001b[0m\u001b[0;34m[\u001b[0m\u001b[0;34m'label'\u001b[0m\u001b[0;34m]\u001b[0m\u001b[0;34m)\u001b[0m\u001b[0;34m\u001b[0m\u001b[0m\n\u001b[1;32m      4\u001b[0m \u001b[0;34m\u001b[0m\u001b[0m\n\u001b[1;32m      5\u001b[0m \u001b[0mprint\u001b[0m\u001b[0;34m(\u001b[0m\u001b[0;34m'data_X size:'\u001b[0m\u001b[0;34m,\u001b[0m \u001b[0mlen\u001b[0m\u001b[0;34m(\u001b[0m\u001b[0mdata_X\u001b[0m\u001b[0;34m)\u001b[0m\u001b[0;34m)\u001b[0m\u001b[0;34m\u001b[0m\u001b[0m\n",
      "\u001b[0;32m/usr/local/lib/python3.6/site-packages/datascience/tables.py\u001b[0m in \u001b[0;36m__getitem__\u001b[0;34m(self, index_or_label)\u001b[0m\n\u001b[1;32m    166\u001b[0m \u001b[0;34m\u001b[0m\u001b[0m\n\u001b[1;32m    167\u001b[0m     \u001b[0;32mdef\u001b[0m \u001b[0m__getitem__\u001b[0m\u001b[0;34m(\u001b[0m\u001b[0mself\u001b[0m\u001b[0;34m,\u001b[0m \u001b[0mindex_or_label\u001b[0m\u001b[0;34m)\u001b[0m\u001b[0;34m:\u001b[0m\u001b[0;34m\u001b[0m\u001b[0m\n\u001b[0;32m--> 168\u001b[0;31m         \u001b[0;32mreturn\u001b[0m \u001b[0mself\u001b[0m\u001b[0;34m.\u001b[0m\u001b[0mcolumn\u001b[0m\u001b[0;34m(\u001b[0m\u001b[0mindex_or_label\u001b[0m\u001b[0;34m)\u001b[0m\u001b[0;34m\u001b[0m\u001b[0m\n\u001b[0m\u001b[1;32m    169\u001b[0m \u001b[0;34m\u001b[0m\u001b[0m\n\u001b[1;32m    170\u001b[0m     \u001b[0;32mdef\u001b[0m \u001b[0m__setitem__\u001b[0m\u001b[0;34m(\u001b[0m\u001b[0mself\u001b[0m\u001b[0;34m,\u001b[0m \u001b[0mindex_or_label\u001b[0m\u001b[0;34m,\u001b[0m \u001b[0mvalues\u001b[0m\u001b[0;34m)\u001b[0m\u001b[0;34m:\u001b[0m\u001b[0;34m\u001b[0m\u001b[0m\n",
      "\u001b[0;32m/usr/local/lib/python3.6/site-packages/datascience/tables.py\u001b[0m in \u001b[0;36mcolumn\u001b[0;34m(self, index_or_label)\u001b[0m\n\u001b[1;32m    273\u001b[0m                 \u001b[0;34m'The column \"{}\" is not in the table. The table contains '\u001b[0m\u001b[0;34m\u001b[0m\u001b[0m\n\u001b[1;32m    274\u001b[0m                 \u001b[0;34m'these columns: {}'\u001b[0m\u001b[0;34m\u001b[0m\u001b[0m\n\u001b[0;32m--> 275\u001b[0;31m                 \u001b[0;34m.\u001b[0m\u001b[0mformat\u001b[0m\u001b[0;34m(\u001b[0m\u001b[0mindex_or_label\u001b[0m\u001b[0;34m,\u001b[0m \u001b[0;34m', '\u001b[0m\u001b[0;34m.\u001b[0m\u001b[0mjoin\u001b[0m\u001b[0;34m(\u001b[0m\u001b[0mself\u001b[0m\u001b[0;34m.\u001b[0m\u001b[0mlabels\u001b[0m\u001b[0;34m)\u001b[0m\u001b[0;34m)\u001b[0m\u001b[0;34m\u001b[0m\u001b[0m\n\u001b[0m\u001b[1;32m    276\u001b[0m             )\n\u001b[1;32m    277\u001b[0m         if (isinstance(index_or_label, int)\n",
      "\u001b[0;31mValueError\u001b[0m: The column \"text\" is not in the table. The table contains these columns: Daniel, Nick, Prediction, user_id\tuser_name\ttime\tlocation\ttext , Unnamed: 4, Unnamed: 5, Unnamed: 6, Unnamed: 7"
     ]
    }
   ],
   "source": [
    "# Prepare data\n",
    "data_X = list(data['text'])\n",
    "data_y = list(data['label'])\n",
    "\n",
    "print('data_X size:', len(data_X))\n",
    "print('data_y size:', len(data_y))"
   ]
  },
  {
   "cell_type": "code",
   "execution_count": null,
   "metadata": {},
   "outputs": [],
   "source": [
    "# Using train_test_split\n",
    "X_train, X_test, y_train, y_test = train_test_split(data_X, data_y, test_size=.20, random_state=0)\n",
    "\n",
    "# Convert X_train to bag-of-words representation\n",
    "count_vect = CountVectorizer()\n",
    "X_train_counts = count_vect.fit_transform(X_train)\n",
    "\n",
    "### TODO: Tune max_depth param ###\n",
    "# Try different values of max_depth, and see how the f1-score changes\n",
    "# Note: when max_depth is None, the full tree is fitted\n",
    "clf = tree.DecisionTreeClassifier(max_depth=None, criterion='entropy')\n",
    "clf.fit(X_train_counts, y_train)\n",
    "\n",
    "X_test_counts = count_vect.transform(X_test)\n",
    "predicted = clf3.predict(X_test_counts)\n",
    "print(metrics.classification_report(y_test, predicted))"
   ]
  },
  {
   "cell_type": "code",
   "execution_count": null,
   "metadata": {},
   "outputs": [],
   "source": [
    "# Inline plot of the Decision Tree\n",
    "### TODO ###\n",
    "# If your not predicting \"irrelevant\" vs. \"relevant\"\n",
    "# then you need to change the class_names argument\n",
    "# For example, class_names=['positive', 'negative']\n",
    "dot_data = tree.export_graphviz(clf3, out_file=None, \n",
    "                                feature_names=count_vect.get_feature_names(),\n",
    "                                class_names=['irrelevant', 'relevant'])\n",
    "graph = graphviz.Source(dot_data)\n",
    "graph"
   ]
  },
  {
   "cell_type": "code",
   "execution_count": null,
   "metadata": {},
   "outputs": [],
   "source": [
    "# Save the tree plot to pdf file\n",
    "### TODO ###\n",
    "# Specify tree file name here\n",
    "graph.render('YOUR_TREE_FILE')"
   ]
  }
 ],
 "metadata": {
  "kernelspec": {
   "display_name": "Python 3",
   "language": "python",
   "name": "python3"
  },
  "language_info": {
   "codemirror_mode": {
    "name": "ipython",
    "version": 3
   },
   "file_extension": ".py",
   "mimetype": "text/x-python",
   "name": "python",
   "nbconvert_exporter": "python",
   "pygments_lexer": "ipython3",
   "version": "3.6.3"
  }
 },
 "nbformat": 4,
 "nbformat_minor": 2
}
