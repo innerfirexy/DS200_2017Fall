{
 "cells": [
  {
   "cell_type": "code",
   "execution_count": null,
   "metadata": {},
   "outputs": [],
   "source": [
    "from datascience import *\n",
    "\n",
    "from sklearn.feature_extraction.text import CountVectorizer\n",
    "from sklearn.pipeline import Pipeline\n",
    "from sklearn import tree\n",
    "from sklearn import metrics\n",
    "from sklearn.model_selection import cross_val_score\n",
    "from sklearn.model_selection import cross_validate\n",
    "from sklearn.model_selection import train_test_split\n",
    "\n",
    "import pandas as pd\n",
    "import numpy as np"
   ]
  },
  {
   "cell_type": "code",
   "execution_count": null,
   "metadata": {},
   "outputs": [],
   "source": [
    "# Load data set \n",
    "data = Table.read_table('YOUR_FILE_NAME', sep='\\t')\n",
    "data"
   ]
  },
  {
   "cell_type": "code",
   "execution_count": null,
   "metadata": {
    "scrolled": true
   },
   "outputs": [],
   "source": [
    "# Prepare data\n",
    "data_X = list(data['text'])\n",
    "data_y = list(data['label'])\n",
    "\n",
    "print('data_X size:', len(data_X))\n",
    "print('data_y size:', len(data_y))\n",
    "\n",
    "print('First 5 elements of data_X:', data_X[:5])\n",
    "print('First 5 elements of data_y:', data_y[:5])"
   ]
  },
  {
   "cell_type": "code",
   "execution_count": null,
   "metadata": {},
   "outputs": [],
   "source": [
    "# Method1: Using cross_val_score\n",
    "clf = Pipeline([('vect', CountVectorizer()), \n",
    "                ('clf', tree.DecisionTreeClassifier())])\n",
    "scores = cross_val_score(clf, data_X, data_y, cv=5)\n",
    "\n",
    "print('scores:', scores)\n",
    "print('Mean of accuracy:', scores.mean())\n",
    "print('SD of accuracy:', scores.std())"
   ]
  },
  {
   "cell_type": "code",
   "execution_count": null,
   "metadata": {},
   "outputs": [],
   "source": [
    "# Method2: Using cross_validate\n",
    "scoring = ['precision_weighted', 'recall_weighted', 'f1_weighted']\n",
    "scores = cross_validate(clf, data_X, data_y, scoring=scoring, cv=5, return_train_score=False)\n",
    "\n",
    "# print(sorted(scores.keys()))\n",
    "print('Weighted average precision: ', np.mean(scores['test_precision_weighted']))\n",
    "print('Weighted average recall: ', np.mean(scores['test_recall_weighted']))\n",
    "print('Weighted average f1 score:', np.mean(scores['test_f1_weighted']))"
   ]
  },
  {
   "cell_type": "code",
   "execution_count": null,
   "metadata": {},
   "outputs": [],
   "source": [
    "# Using train_test_split\n",
    "X_train, X_test, y_train, y_test = train_test_split(data_X, data_y, test_size=.20, random_state=0)\n",
    "\n",
    "print(len(X_train), len(y_train))\n",
    "print(len(X_test), len(y_test))"
   ]
  },
  {
   "cell_type": "code",
   "execution_count": null,
   "metadata": {
    "scrolled": true
   },
   "outputs": [],
   "source": [
    "clf2 = Pipeline([('vect', CountVectorizer()), \n",
    "                ('clf', tree.DecisionTreeClassifier())])\n",
    "clf2.fit(X_train, y_train)\n",
    "\n",
    "predicted = clf2.predict(X_test)\n",
    "print(metrics.classification_report(y_test, predicted))"
   ]
  },
  {
   "cell_type": "code",
   "execution_count": null,
   "metadata": {},
   "outputs": [],
   "source": [
    "# Appendix\n",
    "# Hints on how to create the two-column dataset\n",
    "# This is an example usng Daniel and Nick's data, and you can try it on your own data, by modifying the code\n",
    "from datascience import *\n",
    "import pandas as pd\n",
    "\n",
    "old_data = Table.read_table('../Lab7/labels_text_Daniel-Walker_nonASCII_removed_cleaned.csv', sep='\\t')\n",
    "old_data"
   ]
  },
  {
   "cell_type": "code",
   "execution_count": null,
   "metadata": {},
   "outputs": [],
   "source": [
    "# From original data to the new data that contains only two columns\n",
    "text = list(old_data['text'])\n",
    "labels = [1 if old_data['Daniel'][i] == 'IR' and data['Nick'][i] == 'IR' else 0 for i in range(len(old_data.rows))]\n",
    "\n",
    "new_data = Table().with_columns('text', text).with_columns('label', labels)\n",
    "new_data\n",
    "\n",
    "df = new_data.to_df()\n",
    "df.to_csv('new_data_demo.csv', sep='\\t', index=False)"
   ]
  }
 ],
 "metadata": {
  "kernelspec": {
   "display_name": "Python 3",
   "language": "python",
   "name": "python3"
  },
  "language_info": {
   "codemirror_mode": {
    "name": "ipython",
    "version": 3
   },
   "file_extension": ".py",
   "mimetype": "text/x-python",
   "name": "python",
   "nbconvert_exporter": "python",
   "pygments_lexer": "ipython3",
   "version": "3.6.3"
  }
 },
 "nbformat": 4,
 "nbformat_minor": 2
}
