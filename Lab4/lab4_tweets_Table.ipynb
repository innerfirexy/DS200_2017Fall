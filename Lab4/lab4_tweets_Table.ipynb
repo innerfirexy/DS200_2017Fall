{
 "cells": [
  {
   "cell_type": "code",
   "execution_count": 1,
   "metadata": {
    "collapsed": true
   },
   "outputs": [],
   "source": [
    "from datascience import *"
   ]
  },
  {
   "cell_type": "code",
   "execution_count": 6,
   "metadata": {},
   "outputs": [],
   "source": [
    "# Load my_tweets_*.csv into Table\n",
    "# Hint: change the csv file name to your own file name\n",
    "table1 = Table.read_table('my_tweets_Toby-Chan.csv', sep='\\t')"
   ]
  },
  {
   "cell_type": "code",
   "execution_count": 7,
   "metadata": {},
   "outputs": [
    {
     "data": {
      "text/html": [
       "<table border=\"1\" class=\"dataframe\">\n",
       "    <thead>\n",
       "        <tr>\n",
       "            <th>user_id</th> <th>user_name</th> <th>time</th> <th>location</th> <th>text</th>\n",
       "        </tr>\n",
       "    </thead>\n",
       "    <tbody>\n",
       "        <tr>\n",
       "            <td>2361934264        </td> <td>Dino          </td> <td>Thu Sep 07 14:01:18 +0000 2017</td> <td>nan                           </td> <td>@DavidCornDC Are you saying entire Trump family might vi ...</td>\n",
       "        </tr>\n",
       "    </tbody>\n",
       "        <tr>\n",
       "            <td>220772568         </td> <td>Taylor Doyle  </td> <td>Thu Sep 07 14:01:18 +0000 2017</td> <td>Boston, MA                    </td> <td>RT @araslanian_: If you support trump, unfollow me. We w ...</td>\n",
       "        </tr>\n",
       "    </tbody>\n",
       "        <tr>\n",
       "            <td>1095314306        </td> <td>LCoghlan      </td> <td>Thu Sep 07 14:01:18 +0000 2017</td> <td>Bastrop and Matagorda, TX, USA</td> <td>RT @SheriffClarke: Laughable. GOP congress that didn't r ...</td>\n",
       "        </tr>\n",
       "    </tbody>\n",
       "        <tr>\n",
       "            <td>2390302490        </td> <td>madina        </td> <td>Thu Sep 07 14:01:18 +0000 2017</td> <td>nan                           </td> <td>RT @YG: We been told y'all FUCK DONALD TRUMP.               </td>\n",
       "        </tr>\n",
       "    </tbody>\n",
       "        <tr>\n",
       "            <td>327347693         </td> <td>sherwood31    </td> <td>Thu Sep 07 14:01:18 +0000 2017</td> <td>toulouse                      </td> <td>Le monde tournerait il pas à l'envers, une course à l'éc ...</td>\n",
       "        </tr>\n",
       "    </tbody>\n",
       "        <tr>\n",
       "            <td>760864021574672384</td> <td>#ShariaSheeple</td> <td>Thu Sep 07 14:01:18 +0000 2017</td> <td>nan                           </td> <td>RT @eeynouf: Colbert falsely claims Trump never met Hurr ...</td>\n",
       "        </tr>\n",
       "    </tbody>\n",
       "        <tr>\n",
       "            <td>827979813801619456</td> <td>marbro        </td> <td>Thu Sep 07 14:01:18 +0000 2017</td> <td>nan                           </td> <td>RT @DineshDSouza: I wonder how she felt when she put US  ...</td>\n",
       "        </tr>\n",
       "    </tbody>\n",
       "        <tr>\n",
       "            <td>23986208          </td> <td>debby pastrich</td> <td>Thu Sep 07 14:01:18 +0000 2017</td> <td>Northampton, MA               </td> <td>Good point. Wondered when GOP would get tweaked. https:/ ...</td>\n",
       "        </tr>\n",
       "    </tbody>\n",
       "        <tr>\n",
       "            <td>2715375852        </td> <td>jazmine       </td> <td>Thu Sep 07 14:01:18 +0000 2017</td> <td>nan                           </td> <td>RT @araslanian_: Stop asking me why I don't give a fuck  ...</td>\n",
       "        </tr>\n",
       "    </tbody>\n",
       "        <tr>\n",
       "            <td>171954269         </td> <td>Sandra Rios   </td> <td>Thu Sep 07 14:01:18 +0000 2017</td> <td>nan                           </td> <td>RT @E_of_Justice: Who would have thought?! https://t.co/ ...</td>\n",
       "        </tr>\n",
       "    </tbody>\n",
       "</table>\n",
       "<p>... (292 rows omitted)</p"
      ],
      "text/plain": [
       "user_id            | user_name      | time                           | location                       | text\n",
       "2361934264         | Dino           | Thu Sep 07 14:01:18 +0000 2017 | nan                            | @DavidCornDC Are you saying entire Trump family might vi ...\n",
       "220772568          | Taylor Doyle   | Thu Sep 07 14:01:18 +0000 2017 | Boston, MA                     | RT @araslanian_: If you support trump, unfollow me. We w ...\n",
       "1095314306         | LCoghlan       | Thu Sep 07 14:01:18 +0000 2017 | Bastrop and Matagorda, TX, USA | RT @SheriffClarke: Laughable. GOP congress that didn't r ...\n",
       "2390302490         | madina         | Thu Sep 07 14:01:18 +0000 2017 | nan                            | RT @YG: We been told y'all FUCK DONALD TRUMP.\n",
       "327347693          | sherwood31     | Thu Sep 07 14:01:18 +0000 2017 | toulouse                       | Le monde tournerait il pas à l'envers, une course à l'éc ...\n",
       "760864021574672384 | #ShariaSheeple | Thu Sep 07 14:01:18 +0000 2017 | nan                            | RT @eeynouf: Colbert falsely claims Trump never met Hurr ...\n",
       "827979813801619456 | marbro         | Thu Sep 07 14:01:18 +0000 2017 | nan                            | RT @DineshDSouza: I wonder how she felt when she put US  ...\n",
       "23986208           | debby pastrich | Thu Sep 07 14:01:18 +0000 2017 | Northampton, MA                | Good point. Wondered when GOP would get tweaked. https:/ ...\n",
       "2715375852         | jazmine        | Thu Sep 07 14:01:18 +0000 2017 | nan                            | RT @araslanian_: Stop asking me why I don't give a fuck  ...\n",
       "171954269          | Sandra Rios    | Thu Sep 07 14:01:18 +0000 2017 | nan                            | RT @E_of_Justice: Who would have thought?! https://t.co/ ...\n",
       "... (292 rows omitted)"
      ]
     },
     "execution_count": 7,
     "metadata": {},
     "output_type": "execute_result"
    }
   ],
   "source": [
    "# A glance of the Table\n",
    "table1"
   ]
  },
  {
   "cell_type": "code",
   "execution_count": null,
   "metadata": {
    "collapsed": true
   },
   "outputs": [],
   "source": [
    "# Access the data in the 'text' column, and store it in text_array\n",
    "text_array = table1['text']"
   ]
  },
  {
   "cell_type": "code",
   "execution_count": null,
   "metadata": {
    "collapsed": true
   },
   "outputs": [],
   "source": [
    "# Show the number of elements\n",
    "print(len(text_array))"
   ]
  },
  {
   "cell_type": "code",
   "execution_count": null,
   "metadata": {
    "collapsed": true
   },
   "outputs": [],
   "source": [
    "# Hint: \n",
    "# We first create an empty list, word_num\n",
    "# For each piece of text in text_array, we split it into words, using the split() method of str type\n",
    "# Then we append the number of words to word_num. len() function can used count the number of words.\n",
    "word_num = []\n",
    "\n",
    "for text in text_array:    \n",
    "    if len(text) == 0:\n",
    "        word_num.append(0)\n",
    "        continue\n",
    "        \n",
    "    ### START YOUR CODE HERE (roughly 2 lines of code) ###\n",
    "    words = None\n",
    "    word_num.append(None)\n",
    "    ### END OF YOUR CODE ###\n",
    "\n",
    "table2 = table1.with_columns('word_num', word_num)\n",
    "table2"
   ]
  },
  {
   "cell_type": "code",
   "execution_count": 4,
   "metadata": {
    "collapsed": true
   },
   "outputs": [],
   "source": [
    "import pandas as pd"
   ]
  },
  {
   "cell_type": "code",
   "execution_count": 13,
   "metadata": {
    "collapsed": true
   },
   "outputs": [],
   "source": [
    "df = pd.DataFrame.from_csv('my_tweets_Toby_Chan_utf8cleaned.csv', encoding='utf-8', sep='\\t')"
   ]
  },
  {
   "cell_type": "code",
   "execution_count": 14,
   "metadata": {},
   "outputs": [
    {
     "data": {
      "text/html": [
       "<div>\n",
       "<style>\n",
       "    .dataframe thead tr:only-child th {\n",
       "        text-align: right;\n",
       "    }\n",
       "\n",
       "    .dataframe thead th {\n",
       "        text-align: left;\n",
       "    }\n",
       "\n",
       "    .dataframe tbody tr th {\n",
       "        vertical-align: top;\n",
       "    }\n",
       "</style>\n",
       "<table border=\"1\" class=\"dataframe\">\n",
       "  <thead>\n",
       "    <tr style=\"text-align: right;\">\n",
       "      <th></th>\n",
       "      <th>user_name</th>\n",
       "      <th>time</th>\n",
       "      <th>location</th>\n",
       "      <th>text</th>\n",
       "    </tr>\n",
       "    <tr>\n",
       "      <th>user_id</th>\n",
       "      <th></th>\n",
       "      <th></th>\n",
       "      <th></th>\n",
       "      <th></th>\n",
       "    </tr>\n",
       "  </thead>\n",
       "  <tbody>\n",
       "    <tr>\n",
       "      <th>2361934264</th>\n",
       "      <td>Dino</td>\n",
       "      <td>Thu Sep 07 14:01:18 +0000 2017</td>\n",
       "      <td>NaN</td>\n",
       "      <td>@DavidCornDC Are you saying entire Trump famil...</td>\n",
       "    </tr>\n",
       "    <tr>\n",
       "      <th>220772568</th>\n",
       "      <td>Taylor Doyle</td>\n",
       "      <td>Thu Sep 07 14:01:18 +0000 2017</td>\n",
       "      <td>Boston, MA</td>\n",
       "      <td>RT @araslanian_: If you support trump, unfollo...</td>\n",
       "    </tr>\n",
       "  </tbody>\n",
       "</table>\n",
       "</div>"
      ],
      "text/plain": [
       "               user_name                            time    location  \\\n",
       "user_id                                                                \n",
       "2361934264          Dino  Thu Sep 07 14:01:18 +0000 2017         NaN   \n",
       "220772568   Taylor Doyle  Thu Sep 07 14:01:18 +0000 2017  Boston, MA   \n",
       "\n",
       "                                                         text  \n",
       "user_id                                                        \n",
       "2361934264  @DavidCornDC Are you saying entire Trump famil...  \n",
       "220772568   RT @araslanian_: If you support trump, unfollo...  "
      ]
     },
     "execution_count": 14,
     "metadata": {},
     "output_type": "execute_result"
    }
   ],
   "source": [
    "df"
   ]
  },
  {
   "cell_type": "code",
   "execution_count": 3,
   "metadata": {},
   "outputs": [
    {
     "ename": "NameError",
     "evalue": "name 'pd' is not defined",
     "output_type": "error",
     "traceback": [
      "\u001b[0;31m---------------------------------------------------------------------------\u001b[0m",
      "\u001b[0;31mNameError\u001b[0m                                 Traceback (most recent call last)",
      "\u001b[0;32m<ipython-input-3-3f37cc2ba0d6>\u001b[0m in \u001b[0;36m<module>\u001b[0;34m()\u001b[0m\n\u001b[0;32m----> 1\u001b[0;31m \u001b[0mdf\u001b[0m \u001b[0;34m=\u001b[0m \u001b[0mpd\u001b[0m\u001b[0;34m.\u001b[0m\u001b[0mDataFrame\u001b[0m\u001b[0;34m.\u001b[0m\u001b[0mfrom_csv\u001b[0m\u001b[0;34m(\u001b[0m\u001b[0;34m'my_tweets_Morgan-Sterling.csv'\u001b[0m\u001b[0;34m,\u001b[0m \u001b[0msep\u001b[0m\u001b[0;34m=\u001b[0m\u001b[0;34m'\\t'\u001b[0m\u001b[0;34m)\u001b[0m\u001b[0;34m\u001b[0m\u001b[0m\n\u001b[0m",
      "\u001b[0;31mNameError\u001b[0m: name 'pd' is not defined"
     ]
    }
   ],
   "source": [
    "df = pd.DataFrame.from_csv('my_tweets_Morgan-Sterling.csv', sep='\\t')"
   ]
  },
  {
   "cell_type": "code",
   "execution_count": null,
   "metadata": {},
   "outputs": [],
   "source": [
    "df"
   ]
  },
  {
   "cell_type": "code",
   "execution_count": null,
   "metadata": {
    "collapsed": true
   },
   "outputs": [],
   "source": []
  }
 ],
 "metadata": {
  "kernelspec": {
   "display_name": "Python 3",
   "language": "python",
   "name": "python3"
  },
  "language_info": {
   "codemirror_mode": {
    "name": "ipython",
    "version": 3
   },
   "file_extension": ".py",
   "mimetype": "text/x-python",
   "name": "python",
   "nbconvert_exporter": "python",
   "pygments_lexer": "ipython3",
   "version": "3.6.2"
  }
 },
 "nbformat": 4,
 "nbformat_minor": 2
}
