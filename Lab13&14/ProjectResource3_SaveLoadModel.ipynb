{
 "cells": [
  {
   "cell_type": "code",
   "execution_count": 2,
   "metadata": {},
   "outputs": [],
   "source": [
    "from datascience import *\n",
    "\n",
    "from sklearn.feature_extraction.text import CountVectorizer\n",
    "from sklearn.pipeline import Pipeline\n",
    "from sklearn import tree\n",
    "from sklearn import metrics\n",
    "from sklearn.model_selection import cross_val_score\n",
    "from sklearn.model_selection import cross_validate\n",
    "from sklearn.model_selection import train_test_split\n",
    "\n",
    "import pandas as pd\n",
    "import numpy as np\n",
    "import graphviz\n",
    "import os\n",
    "os.environ[\"PATH\"] += os.pathsep + 'C:/Program Files (x86)/Graphviz2.38/bin/'\n",
    "\n",
    "from sklearn.externals import joblib"
   ]
  },
  {
   "cell_type": "code",
   "execution_count": 4,
   "metadata": {},
   "outputs": [
    {
     "data": {
      "text/html": [
       "<table border=\"1\" class=\"dataframe\">\n",
       "    <thead>\n",
       "        <tr>\n",
       "            <th>text</th> <th>label</th>\n",
       "        </tr>\n",
       "    </thead>\n",
       "    <tbody>\n",
       "        <tr>\n",
       "            <td>rt USER_MENTION breakfast. #kingsman table manner scene  ...</td> <td>0    </td>\n",
       "        </tr>\n",
       "    </tbody>\n",
       "        <tr>\n",
       "            <td>rt USER_MENTION #junkai # kingsman 2 : golden circle_       </td> <td>1    </td>\n",
       "        </tr>\n",
       "    </tbody>\n",
       "        <tr>\n",
       "            <td>review: kingsman partner statesman located kentucky ever ...</td> <td>0    </td>\n",
       "        </tr>\n",
       "    </tbody>\n",
       "        <tr>\n",
       "            <td>--kingsman spoilers-- merlin's end greatest character de ...</td> <td>0    </td>\n",
       "        </tr>\n",
       "    </tbody>\n",
       "        <tr>\n",
       "            <td>24. kingsman. el c rculo de oro. URL                        </td> <td>0    </td>\n",
       "        </tr>\n",
       "    </tbody>\n",
       "        <tr>\n",
       "            <td>ye olde cock tavern fleet st london. photo veronik. | #a ...</td> <td>0    </td>\n",
       "        </tr>\n",
       "    </tbody>\n",
       "        <tr>\n",
       "            <td>infilmercials - kingsman: secret service: URL via USER_M ...</td> <td>0    </td>\n",
       "        </tr>\n",
       "    </tbody>\n",
       "        <tr>\n",
       "            <td>gust un video de USER_MENTION URL kingsman 2 director st ...</td> <td>0    </td>\n",
       "        </tr>\n",
       "    </tbody>\n",
       "        <tr>\n",
       "            <td>rt USER_MENTION halle berry pedro pascal tease romance k ...</td> <td>0    </td>\n",
       "        </tr>\n",
       "    </tbody>\n",
       "        <tr>\n",
       "            <td>oh kingsman 2 dumb lit                                      </td> <td>0    </td>\n",
       "        </tr>\n",
       "    </tbody>\n",
       "</table>\n",
       "<p>... (298 rows omitted)</p"
      ],
      "text/plain": [
       "text                                                         | label\n",
       "rt USER_MENTION breakfast. #kingsman table manner scene  ... | 0\n",
       "rt USER_MENTION #junkai # kingsman 2 : golden circle_        | 1\n",
       "review: kingsman partner statesman located kentucky ever ... | 0\n",
       "--kingsman spoilers-- merlin's end greatest character de ... | 0\n",
       "24. kingsman. el c rculo de oro. URL                         | 0\n",
       "ye olde cock tavern fleet st london. photo veronik. | #a ... | 0\n",
       "infilmercials - kingsman: secret service: URL via USER_M ... | 0\n",
       "gust un video de USER_MENTION URL kingsman 2 director st ... | 0\n",
       "rt USER_MENTION halle berry pedro pascal tease romance k ... | 0\n",
       "oh kingsman 2 dumb lit                                       | 0\n",
       "... (298 rows omitted)"
      ]
     },
     "execution_count": 4,
     "metadata": {},
     "output_type": "execute_result"
    }
   ],
   "source": [
    "# Load text data\n",
    "data = Table.read_table('data_stopwords_removed_URLs_replaced.csv', sep=',')\n",
    "data"
   ]
  },
  {
   "cell_type": "code",
   "execution_count": 14,
   "metadata": {},
   "outputs": [],
   "source": [
    "# Split data into data_train and data_new\n",
    "data_train = data.take(range(200)) # First 200 rows\n",
    "data_new = data.take(range(200, data.num_rows))\n",
    "\n",
    "# Remove the `label` column of data_new\n",
    "data_new = data_new.select(0)"
   ]
  },
  {
   "cell_type": "code",
   "execution_count": 25,
   "metadata": {},
   "outputs": [
    {
     "data": {
      "text/html": [
       "<table border=\"1\" class=\"dataframe\">\n",
       "    <thead>\n",
       "        <tr>\n",
       "            <th>text</th> <th>label</th>\n",
       "        </tr>\n",
       "    </thead>\n",
       "    <tbody>\n",
       "        <tr>\n",
       "            <td>rt USER_MENTION breakfast. #kingsman table manner scene  ...</td> <td>0    </td>\n",
       "        </tr>\n",
       "    </tbody>\n",
       "        <tr>\n",
       "            <td>rt USER_MENTION #junkai # kingsman 2 : golden circle_       </td> <td>1    </td>\n",
       "        </tr>\n",
       "    </tbody>\n",
       "        <tr>\n",
       "            <td>review: kingsman partner statesman located kentucky ever ...</td> <td>0    </td>\n",
       "        </tr>\n",
       "    </tbody>\n",
       "        <tr>\n",
       "            <td>--kingsman spoilers-- merlin's end greatest character de ...</td> <td>0    </td>\n",
       "        </tr>\n",
       "    </tbody>\n",
       "        <tr>\n",
       "            <td>24. kingsman. el c rculo de oro. URL                        </td> <td>0    </td>\n",
       "        </tr>\n",
       "    </tbody>\n",
       "        <tr>\n",
       "            <td>ye olde cock tavern fleet st london. photo veronik. | #a ...</td> <td>0    </td>\n",
       "        </tr>\n",
       "    </tbody>\n",
       "        <tr>\n",
       "            <td>infilmercials - kingsman: secret service: URL via USER_M ...</td> <td>0    </td>\n",
       "        </tr>\n",
       "    </tbody>\n",
       "        <tr>\n",
       "            <td>gust un video de USER_MENTION URL kingsman 2 director st ...</td> <td>0    </td>\n",
       "        </tr>\n",
       "    </tbody>\n",
       "        <tr>\n",
       "            <td>rt USER_MENTION halle berry pedro pascal tease romance k ...</td> <td>0    </td>\n",
       "        </tr>\n",
       "    </tbody>\n",
       "        <tr>\n",
       "            <td>oh kingsman 2 dumb lit                                      </td> <td>0    </td>\n",
       "        </tr>\n",
       "    </tbody>\n",
       "</table>\n",
       "<p>... (190 rows omitted)</p"
      ],
      "text/plain": [
       "text                                                         | label\n",
       "rt USER_MENTION breakfast. #kingsman table manner scene  ... | 0\n",
       "rt USER_MENTION #junkai # kingsman 2 : golden circle_        | 1\n",
       "review: kingsman partner statesman located kentucky ever ... | 0\n",
       "--kingsman spoilers-- merlin's end greatest character de ... | 0\n",
       "24. kingsman. el c rculo de oro. URL                         | 0\n",
       "ye olde cock tavern fleet st london. photo veronik. | #a ... | 0\n",
       "infilmercials - kingsman: secret service: URL via USER_M ... | 0\n",
       "gust un video de USER_MENTION URL kingsman 2 director st ... | 0\n",
       "rt USER_MENTION halle berry pedro pascal tease romance k ... | 0\n",
       "oh kingsman 2 dumb lit                                       | 0\n",
       "... (190 rows omitted)"
      ]
     },
     "execution_count": 25,
     "metadata": {},
     "output_type": "execute_result"
    }
   ],
   "source": [
    "data_train"
   ]
  },
  {
   "cell_type": "code",
   "execution_count": 26,
   "metadata": {},
   "outputs": [
    {
     "data": {
      "text/html": [
       "<table border=\"1\" class=\"dataframe\">\n",
       "    <thead>\n",
       "        <tr>\n",
       "            <th>text</th>\n",
       "        </tr>\n",
       "    </thead>\n",
       "    <tbody>\n",
       "        <tr>\n",
       "            <td>USER_MENTION USER_MENTION USER_MENTION USER_MENTION i'm  ...</td>\n",
       "        </tr>\n",
       "    </tbody>\n",
       "        <tr>\n",
       "            <td>rt USER_MENTION m telling go see #kingsman USER_MENTION  ...</td>\n",
       "        </tr>\n",
       "    </tbody>\n",
       "        <tr>\n",
       "            <td>rt USER_MENTION m telling go see #kingsman USER_MENTION  ...</td>\n",
       "        </tr>\n",
       "    </tbody>\n",
       "        <tr>\n",
       "            <td>rt USER_MENTION pug first kingsman movie attended premie ...</td>\n",
       "        </tr>\n",
       "    </tbody>\n",
       "        <tr>\n",
       "            <td>rt USER_MENTION training wheels. off. #kingsman: golden  ...</td>\n",
       "        </tr>\n",
       "    </tbody>\n",
       "        <tr>\n",
       "            <td>rt USER_MENTION maybe ve heard them? 5 reasons #kingsman ...</td>\n",
       "        </tr>\n",
       "    </tbody>\n",
       "        <tr>\n",
       "            <td>URL : kingsman 2 golden circle: channing tatum sex toy c ...</td>\n",
       "        </tr>\n",
       "    </tbody>\n",
       "        <tr>\n",
       "            <td>also say writing kingsman secret service way better king ...</td>\n",
       "        </tr>\n",
       "    </tbody>\n",
       "        <tr>\n",
       "            <td>rt USER_MENTION 'kingsman: golden circle' theatres lets  ...</td>\n",
       "        </tr>\n",
       "    </tbody>\n",
       "        <tr>\n",
       "            <td>'kingsman: golden circle' building bigger better james b ...</td>\n",
       "        </tr>\n",
       "    </tbody>\n",
       "</table>\n",
       "<p>... (98 rows omitted)</p"
      ],
      "text/plain": [
       "text\n",
       "USER_MENTION USER_MENTION USER_MENTION USER_MENTION i'm  ...\n",
       "rt USER_MENTION m telling go see #kingsman USER_MENTION  ...\n",
       "rt USER_MENTION m telling go see #kingsman USER_MENTION  ...\n",
       "rt USER_MENTION pug first kingsman movie attended premie ...\n",
       "rt USER_MENTION training wheels. off. #kingsman: golden  ...\n",
       "rt USER_MENTION maybe ve heard them? 5 reasons #kingsman ...\n",
       "URL : kingsman 2 golden circle: channing tatum sex toy c ...\n",
       "also say writing kingsman secret service way better king ...\n",
       "rt USER_MENTION 'kingsman: golden circle' theatres lets  ...\n",
       "'kingsman: golden circle' building bigger better james b ...\n",
       "... (98 rows omitted)"
      ]
     },
     "execution_count": 26,
     "metadata": {},
     "output_type": "execute_result"
    }
   ],
   "source": [
    "data_new"
   ]
  },
  {
   "cell_type": "code",
   "execution_count": 16,
   "metadata": {},
   "outputs": [
    {
     "data": {
      "text/plain": [
       "Pipeline(memory=None,\n",
       "     steps=[('vect', CountVectorizer(analyzer='word', binary=False, decode_error='strict',\n",
       "        dtype=<class 'numpy.int64'>, encoding='utf-8', input='content',\n",
       "        lowercase=True, max_df=1.0, max_features=None, min_df=1,\n",
       "        ngram_range=(1, 1), preprocessor=None, stop_words=None,\n",
       "        strip...      min_weight_fraction_leaf=0.0, presort=False, random_state=None,\n",
       "            splitter='best'))])"
      ]
     },
     "execution_count": 16,
     "metadata": {},
     "output_type": "execute_result"
    }
   ],
   "source": [
    "# Prepare data_train\n",
    "data_train_X = list(data_train['text'])\n",
    "data_train_y = list(data_train['label'])\n",
    "\n",
    "# Train model on data_train\n",
    "clf = Pipeline([('vect', CountVectorizer()), \n",
    "                ('clf', tree.DecisionTreeClassifier(max_depth=3))])\n",
    "clf.fit(data_train_X, data_train_y)"
   ]
  },
  {
   "cell_type": "code",
   "execution_count": 17,
   "metadata": {},
   "outputs": [
    {
     "data": {
      "text/plain": [
       "['model.pkl']"
      ]
     },
     "execution_count": 17,
     "metadata": {},
     "output_type": "execute_result"
    }
   ],
   "source": [
    "# Save the trained model\n",
    "from sklearn.externals import joblib\n",
    "joblib.dump(clf, 'model.pkl')"
   ]
  },
  {
   "cell_type": "code",
   "execution_count": 21,
   "metadata": {
    "scrolled": true
   },
   "outputs": [
    {
     "data": {
      "text/plain": [
       "array([0, 0, 0, 0, 0, 0, 0, 0, 0, 0, 0, 0, 0, 0, 0, 0, 0, 0, 1, 0, 0, 0, 1,\n",
       "       0, 0, 0, 0, 0, 0, 1, 1, 1, 1, 0, 0, 0, 0, 0, 0, 0, 0, 0, 0, 1, 1, 0,\n",
       "       0, 0, 0, 0, 0, 0, 0, 0, 0, 0, 0, 1, 0, 0, 0, 0, 0, 0, 0, 0, 0, 0, 0,\n",
       "       0, 0, 0, 1, 0, 0, 0, 0, 0, 0, 0, 0, 0, 0, 0, 1, 0, 0, 1, 1, 0, 0, 0,\n",
       "       0, 0, 0, 0, 1, 0, 0, 0, 0, 0, 0, 0, 1, 0, 0, 0])"
      ]
     },
     "execution_count": 21,
     "metadata": {},
     "output_type": "execute_result"
    }
   ],
   "source": [
    "# Load the saved model\n",
    "clf2 = joblib.load('model.pkl')\n",
    "\n",
    "# Predict on data_new\n",
    "predicted = clf2.predict(data_new['text'])\n",
    "predicted"
   ]
  },
  {
   "cell_type": "code",
   "execution_count": 24,
   "metadata": {},
   "outputs": [],
   "source": [
    "# Append predictions to data_new\n",
    "data_new_pred = data_new.with_columns('predicted', predicted)\n",
    "# Save\n",
    "data_new_pred.to_csv('data_new_pred.csv')"
   ]
  },
  {
   "cell_type": "code",
   "execution_count": 23,
   "metadata": {
    "scrolled": true
   },
   "outputs": [
    {
     "data": {
      "text/html": [
       "<table border=\"1\" class=\"dataframe\">\n",
       "    <thead>\n",
       "        <tr>\n",
       "            <th>text</th> <th>predicted</th>\n",
       "        </tr>\n",
       "    </thead>\n",
       "    <tbody>\n",
       "        <tr>\n",
       "            <td>USER_MENTION USER_MENTION USER_MENTION USER_MENTION i'm  ...</td> <td>0        </td>\n",
       "        </tr>\n",
       "    </tbody>\n",
       "        <tr>\n",
       "            <td>rt USER_MENTION m telling go see #kingsman USER_MENTION  ...</td> <td>0        </td>\n",
       "        </tr>\n",
       "    </tbody>\n",
       "        <tr>\n",
       "            <td>rt USER_MENTION m telling go see #kingsman USER_MENTION  ...</td> <td>0        </td>\n",
       "        </tr>\n",
       "    </tbody>\n",
       "        <tr>\n",
       "            <td>rt USER_MENTION pug first kingsman movie attended premie ...</td> <td>0        </td>\n",
       "        </tr>\n",
       "    </tbody>\n",
       "        <tr>\n",
       "            <td>rt USER_MENTION training wheels. off. #kingsman: golden  ...</td> <td>0        </td>\n",
       "        </tr>\n",
       "    </tbody>\n",
       "        <tr>\n",
       "            <td>rt USER_MENTION maybe ve heard them? 5 reasons #kingsman ...</td> <td>0        </td>\n",
       "        </tr>\n",
       "    </tbody>\n",
       "        <tr>\n",
       "            <td>URL : kingsman 2 golden circle: channing tatum sex toy c ...</td> <td>0        </td>\n",
       "        </tr>\n",
       "    </tbody>\n",
       "        <tr>\n",
       "            <td>also say writing kingsman secret service way better king ...</td> <td>0        </td>\n",
       "        </tr>\n",
       "    </tbody>\n",
       "        <tr>\n",
       "            <td>rt USER_MENTION 'kingsman: golden circle' theatres lets  ...</td> <td>0        </td>\n",
       "        </tr>\n",
       "    </tbody>\n",
       "        <tr>\n",
       "            <td>'kingsman: golden circle' building bigger better james b ...</td> <td>0        </td>\n",
       "        </tr>\n",
       "    </tbody>\n",
       "</table>\n",
       "<p>... (98 rows omitted)</p"
      ],
      "text/plain": [
       "text                                                         | predicted\n",
       "USER_MENTION USER_MENTION USER_MENTION USER_MENTION i'm  ... | 0\n",
       "rt USER_MENTION m telling go see #kingsman USER_MENTION  ... | 0\n",
       "rt USER_MENTION m telling go see #kingsman USER_MENTION  ... | 0\n",
       "rt USER_MENTION pug first kingsman movie attended premie ... | 0\n",
       "rt USER_MENTION training wheels. off. #kingsman: golden  ... | 0\n",
       "rt USER_MENTION maybe ve heard them? 5 reasons #kingsman ... | 0\n",
       "URL : kingsman 2 golden circle: channing tatum sex toy c ... | 0\n",
       "also say writing kingsman secret service way better king ... | 0\n",
       "rt USER_MENTION 'kingsman: golden circle' theatres lets  ... | 0\n",
       "'kingsman: golden circle' building bigger better james b ... | 0\n",
       "... (98 rows omitted)"
      ]
     },
     "execution_count": 23,
     "metadata": {},
     "output_type": "execute_result"
    }
   ],
   "source": [
    "data_new_pred"
   ]
  },
  {
   "cell_type": "code",
   "execution_count": 28,
   "metadata": {},
   "outputs": [
    {
     "data": {
      "text/plain": [
       "['model_clf.pkl']"
      ]
     },
     "execution_count": 28,
     "metadata": {},
     "output_type": "execute_result"
    }
   ],
   "source": [
    "# If saving a classifier instance instead of Pipeline\n",
    "count_vect = CountVectorizer()\n",
    "data_train_X_count = count_vect.fit_transform(data_train_X)\n",
    "\n",
    "clf3 = tree.DecisionTreeClassifier(max_depth=3)\n",
    "clf3.fit(data_train_X_count, data_train_y)\n",
    "joblib.dump(clf3, 'model_clf.pkl')"
   ]
  },
  {
   "cell_type": "code",
   "execution_count": 29,
   "metadata": {},
   "outputs": [
    {
     "ename": "ValueError",
     "evalue": "could not convert string to float: \"USER_MENTION USER_MENTION USER_MENTION USER_MENTION i'm going see tomorrow. #kingsman\"",
     "output_type": "error",
     "traceback": [
      "\u001b[0;31m---------------------------------------------------------------------------\u001b[0m",
      "\u001b[0;31mValueError\u001b[0m                                Traceback (most recent call last)",
      "\u001b[0;32m<ipython-input-29-44a5584fbb13>\u001b[0m in \u001b[0;36m<module>\u001b[0;34m()\u001b[0m\n\u001b[1;32m      1\u001b[0m \u001b[0;31m# Load model_clf.pkl\u001b[0m\u001b[0;34m\u001b[0m\u001b[0;34m\u001b[0m\u001b[0m\n\u001b[1;32m      2\u001b[0m \u001b[0mclf4\u001b[0m \u001b[0;34m=\u001b[0m \u001b[0mjoblib\u001b[0m\u001b[0;34m.\u001b[0m\u001b[0mload\u001b[0m\u001b[0;34m(\u001b[0m\u001b[0;34m'model_clf.pkl'\u001b[0m\u001b[0;34m)\u001b[0m\u001b[0;34m\u001b[0m\u001b[0m\n\u001b[0;32m----> 3\u001b[0;31m \u001b[0mclf4\u001b[0m\u001b[0;34m.\u001b[0m\u001b[0mpredict\u001b[0m\u001b[0;34m(\u001b[0m\u001b[0mdata_new\u001b[0m\u001b[0;34m[\u001b[0m\u001b[0;34m'text'\u001b[0m\u001b[0;34m]\u001b[0m\u001b[0;34m)\u001b[0m\u001b[0;34m\u001b[0m\u001b[0m\n\u001b[0m",
      "\u001b[0;32m/usr/local/lib/python3.6/site-packages/sklearn/tree/tree.py\u001b[0m in \u001b[0;36mpredict\u001b[0;34m(self, X, check_input)\u001b[0m\n\u001b[1;32m    410\u001b[0m         \"\"\"\n\u001b[1;32m    411\u001b[0m         \u001b[0mcheck_is_fitted\u001b[0m\u001b[0;34m(\u001b[0m\u001b[0mself\u001b[0m\u001b[0;34m,\u001b[0m \u001b[0;34m'tree_'\u001b[0m\u001b[0;34m)\u001b[0m\u001b[0;34m\u001b[0m\u001b[0m\n\u001b[0;32m--> 412\u001b[0;31m         \u001b[0mX\u001b[0m \u001b[0;34m=\u001b[0m \u001b[0mself\u001b[0m\u001b[0;34m.\u001b[0m\u001b[0m_validate_X_predict\u001b[0m\u001b[0;34m(\u001b[0m\u001b[0mX\u001b[0m\u001b[0;34m,\u001b[0m \u001b[0mcheck_input\u001b[0m\u001b[0;34m)\u001b[0m\u001b[0;34m\u001b[0m\u001b[0m\n\u001b[0m\u001b[1;32m    413\u001b[0m         \u001b[0mproba\u001b[0m \u001b[0;34m=\u001b[0m \u001b[0mself\u001b[0m\u001b[0;34m.\u001b[0m\u001b[0mtree_\u001b[0m\u001b[0;34m.\u001b[0m\u001b[0mpredict\u001b[0m\u001b[0;34m(\u001b[0m\u001b[0mX\u001b[0m\u001b[0;34m)\u001b[0m\u001b[0;34m\u001b[0m\u001b[0m\n\u001b[1;32m    414\u001b[0m         \u001b[0mn_samples\u001b[0m \u001b[0;34m=\u001b[0m \u001b[0mX\u001b[0m\u001b[0;34m.\u001b[0m\u001b[0mshape\u001b[0m\u001b[0;34m[\u001b[0m\u001b[0;36m0\u001b[0m\u001b[0;34m]\u001b[0m\u001b[0;34m\u001b[0m\u001b[0m\n",
      "\u001b[0;32m/usr/local/lib/python3.6/site-packages/sklearn/tree/tree.py\u001b[0m in \u001b[0;36m_validate_X_predict\u001b[0;34m(self, X, check_input)\u001b[0m\n\u001b[1;32m    371\u001b[0m         \u001b[0;34m\"\"\"Validate X whenever one tries to predict, apply, predict_proba\"\"\"\u001b[0m\u001b[0;34m\u001b[0m\u001b[0m\n\u001b[1;32m    372\u001b[0m         \u001b[0;32mif\u001b[0m \u001b[0mcheck_input\u001b[0m\u001b[0;34m:\u001b[0m\u001b[0;34m\u001b[0m\u001b[0m\n\u001b[0;32m--> 373\u001b[0;31m             \u001b[0mX\u001b[0m \u001b[0;34m=\u001b[0m \u001b[0mcheck_array\u001b[0m\u001b[0;34m(\u001b[0m\u001b[0mX\u001b[0m\u001b[0;34m,\u001b[0m \u001b[0mdtype\u001b[0m\u001b[0;34m=\u001b[0m\u001b[0mDTYPE\u001b[0m\u001b[0;34m,\u001b[0m \u001b[0maccept_sparse\u001b[0m\u001b[0;34m=\u001b[0m\u001b[0;34m\"csr\"\u001b[0m\u001b[0;34m)\u001b[0m\u001b[0;34m\u001b[0m\u001b[0m\n\u001b[0m\u001b[1;32m    374\u001b[0m             if issparse(X) and (X.indices.dtype != np.intc or\n\u001b[1;32m    375\u001b[0m                                 X.indptr.dtype != np.intc):\n",
      "\u001b[0;32m/usr/local/lib/python3.6/site-packages/sklearn/utils/validation.py\u001b[0m in \u001b[0;36mcheck_array\u001b[0;34m(array, accept_sparse, dtype, order, copy, force_all_finite, ensure_2d, allow_nd, ensure_min_samples, ensure_min_features, warn_on_dtype, estimator)\u001b[0m\n\u001b[1;32m    431\u001b[0m                                       force_all_finite)\n\u001b[1;32m    432\u001b[0m     \u001b[0;32melse\u001b[0m\u001b[0;34m:\u001b[0m\u001b[0;34m\u001b[0m\u001b[0m\n\u001b[0;32m--> 433\u001b[0;31m         \u001b[0marray\u001b[0m \u001b[0;34m=\u001b[0m \u001b[0mnp\u001b[0m\u001b[0;34m.\u001b[0m\u001b[0marray\u001b[0m\u001b[0;34m(\u001b[0m\u001b[0marray\u001b[0m\u001b[0;34m,\u001b[0m \u001b[0mdtype\u001b[0m\u001b[0;34m=\u001b[0m\u001b[0mdtype\u001b[0m\u001b[0;34m,\u001b[0m \u001b[0morder\u001b[0m\u001b[0;34m=\u001b[0m\u001b[0morder\u001b[0m\u001b[0;34m,\u001b[0m \u001b[0mcopy\u001b[0m\u001b[0;34m=\u001b[0m\u001b[0mcopy\u001b[0m\u001b[0;34m)\u001b[0m\u001b[0;34m\u001b[0m\u001b[0m\n\u001b[0m\u001b[1;32m    434\u001b[0m \u001b[0;34m\u001b[0m\u001b[0m\n\u001b[1;32m    435\u001b[0m         \u001b[0;32mif\u001b[0m \u001b[0mensure_2d\u001b[0m\u001b[0;34m:\u001b[0m\u001b[0;34m\u001b[0m\u001b[0m\n",
      "\u001b[0;31mValueError\u001b[0m: could not convert string to float: \"USER_MENTION USER_MENTION USER_MENTION USER_MENTION i'm going see tomorrow. #kingsman\""
     ]
    }
   ],
   "source": [
    "# Load model_clf.pkl\n",
    "clf4 = joblib.load('model_clf.pkl')\n",
    "clf4.predict(data_new['text'])"
   ]
  },
  {
   "cell_type": "code",
   "execution_count": 37,
   "metadata": {},
   "outputs": [],
   "source": [
    "# Example 2: Iris data\n",
    "iris = Table.read_table('iris.csv')\n",
    "# Random shuffle\n",
    "iris = iris.sample(iris.num_rows)\n",
    "\n",
    "iris_train = iris.take(range(100))\n",
    "iris_new = iris.take(range(100, iris.num_rows))\n",
    "iris_new = iris_new.select(0,1,2,3)"
   ]
  },
  {
   "cell_type": "code",
   "execution_count": 38,
   "metadata": {},
   "outputs": [
    {
     "data": {
      "text/html": [
       "<table border=\"1\" class=\"dataframe\">\n",
       "    <thead>\n",
       "        <tr>\n",
       "            <th>Sepal.Length</th> <th>Sepal.Width</th> <th>Petal.Length</th> <th>Petal.Width</th> <th>Species</th>\n",
       "        </tr>\n",
       "    </thead>\n",
       "    <tbody>\n",
       "        <tr>\n",
       "            <td>5.9         </td> <td>3          </td> <td>5.1         </td> <td>1.8        </td> <td>virginica </td>\n",
       "        </tr>\n",
       "    </tbody>\n",
       "        <tr>\n",
       "            <td>6.3         </td> <td>2.3        </td> <td>4.4         </td> <td>1.3        </td> <td>versicolor</td>\n",
       "        </tr>\n",
       "    </tbody>\n",
       "        <tr>\n",
       "            <td>6.3         </td> <td>3.3        </td> <td>6           </td> <td>2.5        </td> <td>virginica </td>\n",
       "        </tr>\n",
       "    </tbody>\n",
       "        <tr>\n",
       "            <td>5           </td> <td>3.6        </td> <td>1.4         </td> <td>0.2        </td> <td>setosa    </td>\n",
       "        </tr>\n",
       "    </tbody>\n",
       "        <tr>\n",
       "            <td>4.5         </td> <td>2.3        </td> <td>1.3         </td> <td>0.3        </td> <td>setosa    </td>\n",
       "        </tr>\n",
       "    </tbody>\n",
       "        <tr>\n",
       "            <td>4.9         </td> <td>3.1        </td> <td>1.5         </td> <td>0.2        </td> <td>setosa    </td>\n",
       "        </tr>\n",
       "    </tbody>\n",
       "        <tr>\n",
       "            <td>4.8         </td> <td>3.1        </td> <td>1.6         </td> <td>0.2        </td> <td>setosa    </td>\n",
       "        </tr>\n",
       "    </tbody>\n",
       "        <tr>\n",
       "            <td>5.8         </td> <td>2.7        </td> <td>5.1         </td> <td>1.9        </td> <td>virginica </td>\n",
       "        </tr>\n",
       "    </tbody>\n",
       "        <tr>\n",
       "            <td>6.4         </td> <td>3.2        </td> <td>4.5         </td> <td>1.5        </td> <td>versicolor</td>\n",
       "        </tr>\n",
       "    </tbody>\n",
       "        <tr>\n",
       "            <td>5.7         </td> <td>4.4        </td> <td>1.5         </td> <td>0.4        </td> <td>setosa    </td>\n",
       "        </tr>\n",
       "    </tbody>\n",
       "</table>\n",
       "<p>... (90 rows omitted)</p"
      ],
      "text/plain": [
       "Sepal.Length | Sepal.Width | Petal.Length | Petal.Width | Species\n",
       "5.9          | 3           | 5.1          | 1.8         | virginica\n",
       "6.3          | 2.3         | 4.4          | 1.3         | versicolor\n",
       "6.3          | 3.3         | 6            | 2.5         | virginica\n",
       "5            | 3.6         | 1.4          | 0.2         | setosa\n",
       "4.5          | 2.3         | 1.3          | 0.3         | setosa\n",
       "4.9          | 3.1         | 1.5          | 0.2         | setosa\n",
       "4.8          | 3.1         | 1.6          | 0.2         | setosa\n",
       "5.8          | 2.7         | 5.1          | 1.9         | virginica\n",
       "6.4          | 3.2         | 4.5          | 1.5         | versicolor\n",
       "5.7          | 4.4         | 1.5          | 0.4         | setosa\n",
       "... (90 rows omitted)"
      ]
     },
     "execution_count": 38,
     "metadata": {},
     "output_type": "execute_result"
    }
   ],
   "source": [
    "iris_train"
   ]
  },
  {
   "cell_type": "code",
   "execution_count": 39,
   "metadata": {},
   "outputs": [
    {
     "data": {
      "text/html": [
       "<table border=\"1\" class=\"dataframe\">\n",
       "    <thead>\n",
       "        <tr>\n",
       "            <th>Sepal.Length</th> <th>Sepal.Width</th> <th>Petal.Length</th> <th>Petal.Width</th>\n",
       "        </tr>\n",
       "    </thead>\n",
       "    <tbody>\n",
       "        <tr>\n",
       "            <td>6           </td> <td>2.7        </td> <td>5.1         </td> <td>1.6        </td>\n",
       "        </tr>\n",
       "    </tbody>\n",
       "        <tr>\n",
       "            <td>6.8         </td> <td>3.2        </td> <td>5.9         </td> <td>2.3        </td>\n",
       "        </tr>\n",
       "    </tbody>\n",
       "        <tr>\n",
       "            <td>4.4         </td> <td>2.9        </td> <td>1.4         </td> <td>0.2        </td>\n",
       "        </tr>\n",
       "    </tbody>\n",
       "        <tr>\n",
       "            <td>6.2         </td> <td>3.4        </td> <td>5.4         </td> <td>2.3        </td>\n",
       "        </tr>\n",
       "    </tbody>\n",
       "        <tr>\n",
       "            <td>5.1         </td> <td>3.8        </td> <td>1.5         </td> <td>0.3        </td>\n",
       "        </tr>\n",
       "    </tbody>\n",
       "        <tr>\n",
       "            <td>4.8         </td> <td>3          </td> <td>1.4         </td> <td>0.1        </td>\n",
       "        </tr>\n",
       "    </tbody>\n",
       "        <tr>\n",
       "            <td>6.7         </td> <td>3.3        </td> <td>5.7         </td> <td>2.5        </td>\n",
       "        </tr>\n",
       "    </tbody>\n",
       "        <tr>\n",
       "            <td>4.4         </td> <td>3          </td> <td>1.3         </td> <td>0.2        </td>\n",
       "        </tr>\n",
       "    </tbody>\n",
       "        <tr>\n",
       "            <td>6.7         </td> <td>3.1        </td> <td>4.4         </td> <td>1.4        </td>\n",
       "        </tr>\n",
       "    </tbody>\n",
       "        <tr>\n",
       "            <td>5.1         </td> <td>3.5        </td> <td>1.4         </td> <td>0.3        </td>\n",
       "        </tr>\n",
       "    </tbody>\n",
       "</table>\n",
       "<p>... (40 rows omitted)</p"
      ],
      "text/plain": [
       "Sepal.Length | Sepal.Width | Petal.Length | Petal.Width\n",
       "6            | 2.7         | 5.1          | 1.6\n",
       "6.8          | 3.2         | 5.9          | 2.3\n",
       "4.4          | 2.9         | 1.4          | 0.2\n",
       "6.2          | 3.4         | 5.4          | 2.3\n",
       "5.1          | 3.8         | 1.5          | 0.3\n",
       "4.8          | 3           | 1.4          | 0.1\n",
       "6.7          | 3.3         | 5.7          | 2.5\n",
       "4.4          | 3           | 1.3          | 0.2\n",
       "6.7          | 3.1         | 4.4          | 1.4\n",
       "5.1          | 3.5         | 1.4          | 0.3\n",
       "... (40 rows omitted)"
      ]
     },
     "execution_count": 39,
     "metadata": {},
     "output_type": "execute_result"
    }
   ],
   "source": [
    "iris_new"
   ]
  },
  {
   "cell_type": "code",
   "execution_count": 40,
   "metadata": {},
   "outputs": [
    {
     "data": {
      "text/plain": [
       "['model_iris.pkl']"
      ]
     },
     "execution_count": 40,
     "metadata": {},
     "output_type": "execute_result"
    }
   ],
   "source": [
    "# Prepare data\n",
    "iris_train_X = iris_train.select(0,1,2,3).to_df().as_matrix()\n",
    "iris_train_y = iris_train.select(4).to_df().as_matrix()\n",
    "\n",
    "# Train and save\n",
    "clf5 = tree.DecisionTreeClassifier(max_depth=3)\n",
    "clf5.fit(iris_train_X, iris_train_y)\n",
    "joblib.dump(clf5, 'model_iris.pkl')"
   ]
  },
  {
   "cell_type": "code",
   "execution_count": 41,
   "metadata": {},
   "outputs": [],
   "source": [
    "# Load and predict\n",
    "clf6 = joblib.load('model_iris.pkl')\n",
    "\n",
    "iris_new_X = iris_new.to_df().as_matrix()\n",
    "predicted = clf6.predict(iris_new_X)"
   ]
  },
  {
   "cell_type": "code",
   "execution_count": 42,
   "metadata": {},
   "outputs": [
    {
     "data": {
      "text/plain": [
       "array(['versicolor', 'virginica', 'setosa', 'virginica', 'setosa',\n",
       "       'setosa', 'virginica', 'setosa', 'versicolor', 'setosa', 'setosa',\n",
       "       'versicolor', 'virginica', 'virginica', 'virginica', 'setosa',\n",
       "       'versicolor', 'setosa', 'setosa', 'versicolor', 'virginica',\n",
       "       'versicolor', 'setosa', 'setosa', 'virginica', 'setosa',\n",
       "       'virginica', 'versicolor', 'virginica', 'virginica', 'virginica',\n",
       "       'versicolor', 'setosa', 'virginica', 'setosa', 'setosa', 'setosa',\n",
       "       'virginica', 'setosa', 'virginica', 'virginica', 'virginica',\n",
       "       'virginica', 'setosa', 'versicolor', 'versicolor', 'versicolor',\n",
       "       'virginica', 'virginica', 'setosa'], dtype=object)"
      ]
     },
     "execution_count": 42,
     "metadata": {},
     "output_type": "execute_result"
    }
   ],
   "source": [
    "predicted"
   ]
  },
  {
   "cell_type": "code",
   "execution_count": null,
   "metadata": {},
   "outputs": [],
   "source": []
  }
 ],
 "metadata": {
  "kernelspec": {
   "display_name": "Python 3",
   "language": "python",
   "name": "python3"
  },
  "language_info": {
   "codemirror_mode": {
    "name": "ipython",
    "version": 3
   },
   "file_extension": ".py",
   "mimetype": "text/x-python",
   "name": "python",
   "nbconvert_exporter": "python",
   "pygments_lexer": "ipython3",
   "version": "3.6.3"
  }
 },
 "nbformat": 4,
 "nbformat_minor": 2
}
