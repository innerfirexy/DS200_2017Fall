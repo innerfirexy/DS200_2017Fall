{
 "cells": [
  {
   "cell_type": "code",
   "execution_count": 1,
   "metadata": {},
   "outputs": [],
   "source": [
    "from datascience import *"
   ]
  },
  {
   "cell_type": "code",
   "execution_count": 30,
   "metadata": {},
   "outputs": [],
   "source": [
    "d1 = Table.read_table('lab5_submissions/Lab5_Toby-Chan_labels.csv')\n",
    "\n",
    "# Clear taggerB column\n",
    "# d1['taggerB'] = d1.apply(lambda x: x.strip(), 'taggerB')"
   ]
  },
  {
   "cell_type": "code",
   "execution_count": 31,
   "metadata": {},
   "outputs": [
    {
     "data": {
      "text/html": [
       "<table border=\"1\" class=\"dataframe\">\n",
       "    <thead>\n",
       "        <tr>\n",
       "            <th>relevent/Irrelevent</th> <th>Pos/Neg Toby</th> <th>Pos/neg Chris</th>\n",
       "        </tr>\n",
       "    </thead>\n",
       "    <tbody>\n",
       "        <tr>\n",
       "            <td>I                  </td> <td>nan         </td> <td>nan          </td>\n",
       "        </tr>\n",
       "    </tbody>\n",
       "        <tr>\n",
       "            <td>I                  </td> <td>nan         </td> <td>nan          </td>\n",
       "        </tr>\n",
       "    </tbody>\n",
       "        <tr>\n",
       "            <td>R                  </td> <td>n           </td> <td>n            </td>\n",
       "        </tr>\n",
       "    </tbody>\n",
       "        <tr>\n",
       "            <td>I                  </td> <td>nan         </td> <td>nan          </td>\n",
       "        </tr>\n",
       "    </tbody>\n",
       "        <tr>\n",
       "            <td>R                  </td> <td>p           </td> <td>p            </td>\n",
       "        </tr>\n",
       "    </tbody>\n",
       "        <tr>\n",
       "            <td>R                  </td> <td>p           </td> <td>n            </td>\n",
       "        </tr>\n",
       "    </tbody>\n",
       "        <tr>\n",
       "            <td>R                  </td> <td>p           </td> <td>p            </td>\n",
       "        </tr>\n",
       "    </tbody>\n",
       "        <tr>\n",
       "            <td>R                  </td> <td>n           </td> <td>p            </td>\n",
       "        </tr>\n",
       "    </tbody>\n",
       "        <tr>\n",
       "            <td>R                  </td> <td>p           </td> <td>n            </td>\n",
       "        </tr>\n",
       "    </tbody>\n",
       "        <tr>\n",
       "            <td>I                  </td> <td>nan         </td> <td>nan          </td>\n",
       "        </tr>\n",
       "    </tbody>\n",
       "</table>\n",
       "<p>... (283 rows omitted)</p"
      ],
      "text/plain": [
       "relevent/Irrelevent | Pos/Neg Toby | Pos/neg Chris\n",
       "I                   | nan          | nan\n",
       "I                   | nan          | nan\n",
       "R                   | n            | n\n",
       "I                   | nan          | nan\n",
       "R                   | p            | p\n",
       "R                   | p            | n\n",
       "R                   | p            | p\n",
       "R                   | n            | p\n",
       "R                   | p            | n\n",
       "I                   | nan          | nan\n",
       "... (283 rows omitted)"
      ]
     },
     "execution_count": 31,
     "metadata": {},
     "output_type": "execute_result"
    }
   ],
   "source": [
    "d1"
   ]
  },
  {
   "cell_type": "code",
   "execution_count": 28,
   "metadata": {},
   "outputs": [
    {
     "name": "stdout",
     "output_type": "stream",
     "text": [
      "Total # of tweets:  334\n"
     ]
    }
   ],
   "source": [
    "print('Total # of tweets: ', d1.num_rows)"
   ]
  },
  {
   "cell_type": "code",
   "execution_count": 21,
   "metadata": {},
   "outputs": [
    {
     "data": {
      "text/plain": [
       "76"
      ]
     },
     "execution_count": 21,
     "metadata": {},
     "output_type": "execute_result"
    }
   ],
   "source": [
    "# How many tweets that taggerA labeled as \"IR\"\n",
    "d1.where('taggerA', are.equal_to('IR')).num_rows"
   ]
  },
  {
   "cell_type": "code",
   "execution_count": 23,
   "metadata": {},
   "outputs": [
    {
     "data": {
      "text/plain": [
       "76"
      ]
     },
     "execution_count": 23,
     "metadata": {},
     "output_type": "execute_result"
    }
   ],
   "source": [
    "# How many tweets that both taggerA and taggerB labeled as \"IR\"\n",
    "d1.where('taggerA', are.equal_to('IR')).where('taggerB', are.equal_to('IR')).num_rows"
   ]
  },
  {
   "cell_type": "code",
   "execution_count": 25,
   "metadata": {},
   "outputs": [
    {
     "name": "stdout",
     "output_type": "stream",
     "text": [
      "Tagger A\n",
      "Positive #:  127\n",
      "Negative #:  21\n",
      "Neutral #:  80\n",
      "\n",
      "Tagger B\n",
      "Positive #:  93\n",
      "Negative #:  21\n",
      "Neutral #:  115\n"
     ]
    }
   ],
   "source": [
    "# How many Positive, Negative, and Neutral does each tagger give?\n",
    "print('Tagger A')\n",
    "print('Positive #: ', d1.where('taggerA', are.equal_to('Pos')).num_rows)\n",
    "print('Negative #: ', d1.where('taggerA', are.equal_to('Neg')).num_rows)\n",
    "print('Neutral #: ', d1.where('taggerA', are.equal_to('Neu')).num_rows)\n",
    "\n",
    "print('\\nTagger B')\n",
    "print('Positive #: ', d1.where('taggerB', are.equal_to('Pos')).num_rows)\n",
    "print('Negative #: ', d1.where('taggerB', are.equal_to('Neg')).num_rows)\n",
    "print('Neutral #: ', d1.where('taggerB', are.equal_to('Neu')).num_rows)"
   ]
  },
  {
   "cell_type": "code",
   "execution_count": null,
   "metadata": {},
   "outputs": [],
   "source": []
  }
 ],
 "metadata": {
  "kernelspec": {
   "display_name": "Python 3",
   "language": "python",
   "name": "python3"
  },
  "language_info": {
   "codemirror_mode": {
    "name": "ipython",
    "version": 3
   },
   "file_extension": ".py",
   "mimetype": "text/x-python",
   "name": "python",
   "nbconvert_exporter": "python",
   "pygments_lexer": "ipython3",
   "version": "3.6.2"
  }
 },
 "nbformat": 4,
 "nbformat_minor": 2
}
